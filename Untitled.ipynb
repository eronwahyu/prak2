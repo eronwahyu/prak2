{
 "cells": [
  {
   "cell_type": "code",
   "execution_count": 4,
   "metadata": {},
   "outputs": [],
   "source": [
    "import requests\n",
    "from bs4 import BeautifulSoup\n",
    "import csv"
   ]
  },
  {
   "cell_type": "code",
   "execution_count": 35,
   "metadata": {},
   "outputs": [
    {
     "name": "stdout",
     "output_type": "stream",
     "text": [
      " Persija Tak Ikut Turnamen Yang Digelar Nine Sport  \n",
      " Nine Sport Mau Gelar Turnamen, PSSI Kasih Penjelasan  \n",
      " Antusiasme Pemain Arema Ditangani Eduardo Almeida  \n",
      " Ada Atau Tidak Degradasi, Persija Tetap Patok Juara Liga 1  \n",
      " Dapatkan Bek Asing, Persipura Tinggal Tunggu Penyerang Impor  \n",
      " Bhayangkara FC Resmi Pulangkan Salles  \n",
      " Klub Thailand & Timur Tengah Minati Marc Klok  \n",
      " Enam Pemain Timnas Dapat Latihan Tambahan  \n"
     ]
    }
   ],
   "source": [
    "key = 'liga-1'\n",
    "datas=[]\n",
    "url ='https://www.goal.com/id/{}/117yqo02rs8dykkxpm274w3bd'.format(key)\n",
    "headers ={\n",
    "   'user-agent': 'Mozilla/5.0 (Windows NT 10.0; Win64; x64) AppleWebKit/537.36 (KHTML, like Gecko) Chrome/90.0.4430.212 Safari/537.36'\n",
    "}\n",
    "req = requests.get(url, headers=headers)\n",
    "soup = BeautifulSoup(req.text, 'html.parser')\n",
    "items = soup.findAll('a','type-article')\n",
    "for it in items:\n",
    "    name = it.find('div','title').text\n",
    "    print(name)\n",
    "    datas.append(name)\n"
   ]
  },
  {
   "cell_type": "code",
   "execution_count": 6,
   "metadata": {},
   "outputs": [
    {
     "ename": "SyntaxError",
     "evalue": "invalid syntax (<ipython-input-6-6750674b8d54>, line 4)",
     "output_type": "error",
     "traceback": [
      "\u001b[1;36m  File \u001b[1;32m\"<ipython-input-6-6750674b8d54>\"\u001b[1;36m, line \u001b[1;32m4\u001b[0m\n\u001b[1;33m    print p.find('h3','title').get_text()\u001b[0m\n\u001b[1;37m          ^\u001b[0m\n\u001b[1;31mSyntaxError\u001b[0m\u001b[1;31m:\u001b[0m invalid syntax\n"
     ]
    }
   ],
   "source": [
    "kepala = ['Name']\n",
    "writer = csv.writer(open('{}.csv'.format(key), 'w', newline=''))\n",
    "writer.writerow(kepala)\n",
    "for d in datas: writer.writerow(d)"
   ]
  },
  {
   "cell_type": "code",
   "execution_count": null,
   "metadata": {},
   "outputs": [],
   "source": []
  }
 ],
 "metadata": {
  "kernelspec": {
   "display_name": "Python 3",
   "language": "python",
   "name": "python3"
  },
  "language_info": {
   "codemirror_mode": {
    "name": "ipython",
    "version": 3
   },
   "file_extension": ".py",
   "mimetype": "text/x-python",
   "name": "python",
   "nbconvert_exporter": "python",
   "pygments_lexer": "ipython3",
   "version": "3.7.4"
  }
 },
 "nbformat": 4,
 "nbformat_minor": 2
}
